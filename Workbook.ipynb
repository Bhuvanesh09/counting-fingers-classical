{
 "cells": [
  {
   "cell_type": "code",
   "execution_count": 1,
   "id": "effective-status",
   "metadata": {},
   "outputs": [],
   "source": [
    "import pickle"
   ]
  },
  {
   "cell_type": "code",
   "execution_count": 2,
   "id": "opened-spare",
   "metadata": {},
   "outputs": [],
   "source": [
    "with open(\"./fingerDataSet.pickle\", \"rb\") as infile:\n",
    "    dat = pickle.load(infile, encoding=\"bytes\")"
   ]
  },
  {
   "cell_type": "code",
   "execution_count": 109,
   "id": "8cf88b46",
   "metadata": {},
   "outputs": [],
   "source": [
    "import numpy as np\n",
    "from PIL import Image, ImageDraw\n",
    "from IPython.display import display\n",
    "import matplotlib.pyplot as plt\n",
    "from matplotlib.pyplot import imshow"
   ]
  },
  {
   "cell_type": "code",
   "execution_count": 7,
   "id": "22a85858",
   "metadata": {},
   "outputs": [
    {
     "data": {
      "text/plain": [
       "dict_keys([b'box', b'boxHeight', b'handPoints', b'trackingIndices', b'allFingerPoints', b'boxWidth', b'image', b'boxEdges', b'croppedImage', b'numFingers', b'numPointsInBox', b'handEdges', b'indexFingerPoints', b'picCount', b'image1bit'])"
      ]
     },
     "execution_count": 7,
     "metadata": {},
     "output_type": "execute_result"
    }
   ],
   "source": [
    "dat[0].keys()"
   ]
  },
  {
   "cell_type": "code",
   "execution_count": 29,
   "id": "b1951b7c",
   "metadata": {},
   "outputs": [
    {
     "data": {
      "text/plain": [
       "[181, 203, 200, 245]"
      ]
     },
     "execution_count": 29,
     "metadata": {},
     "output_type": "execute_result"
    }
   ],
   "source": [
    "imDat[b\"handEdges\"]"
   ]
  },
  {
   "cell_type": "code",
   "execution_count": 53,
   "id": "9d5a20a8",
   "metadata": {},
   "outputs": [],
   "source": [
    "def highlightPoints(img, pts, color = \"yellow\"):\n",
    "    draw = ImageDraw.Draw(img)\n",
    "    for y, x in pts:\n",
    "        draw.point((x, y), fill = color)"
   ]
  },
  {
   "cell_type": "code",
   "execution_count": 60,
   "id": "2e151888",
   "metadata": {},
   "outputs": [
    {
     "name": "stdout",
     "output_type": "stream",
     "text": [
      "b'box' <class 'numpy.ndarray'> (202, 2)\n",
      "b'middleFingerPoints' <class 'numpy.ndarray'> (61, 2)\n",
      "b'handPoints' <class 'numpy.ndarray'> (621, 2)\n",
      "b'trackingIndices' <class 'dict'> {b'1': {b'tipIndices': (array([206, 207, 208]), array([183, 183, 183])), b'baseIndices': (array([213, 213, 214, 214, 215]), array([185, 186, 185, 186, 185]))}, b'3': {b'tipIndices': (array([204, 204, 205, 205, 206, 206]), array([200, 201, 200, 201, 200, 201])), b'baseIndices': (array([213, 214, 215]), array([199, 199, 199]))}, b'2': {b'tipIndices': (array([203, 204, 205]), array([192, 192, 192])), b'baseIndices': (array([211, 212, 213]), array([192, 192, 192]))}}\n",
      "b'allFingerPoints' <class 'numpy.ndarray'> (187, 2)\n",
      "b'boxWidth' <class 'numpy.int64'> ()\n",
      "b'image' <class 'numpy.ndarray'> (400, 400)\n",
      "b'boxEdges' <class 'list'> [173, 211, 192, 253]\n",
      "b'croppedImage' <class 'numpy.ndarray'> (61, 38)\n",
      "b'numFingers' <class 'int'> 3\n",
      "b'numPointsInBox' <class 'numpy.int64'> ()\n",
      "b'handEdges' <class 'list'> [181, 203, 200, 245]\n",
      "b'indexFingerPoints' <class 'numpy.ndarray'> (61, 2)\n",
      "b'picCount' <class 'int'> 91\n",
      "b'image1bit' <class 'numpy.ndarray'> (400, 400)\n",
      "b'ringFingerPoints' <class 'numpy.ndarray'> (65, 2)\n",
      "b'boxHeight' <class 'numpy.int64'> ()\n"
     ]
    }
   ],
   "source": [
    "for key, item in imDat.items():\n",
    "    try:\n",
    "        print(key, type(item), item.shape)\n",
    "    except:\n",
    "        print(key, type(item), item)"
   ]
  },
  {
   "cell_type": "code",
   "execution_count": null,
   "id": "2b311f90",
   "metadata": {},
   "outputs": [],
   "source": []
  },
  {
   "cell_type": "code",
   "execution_count": 85,
   "id": "66d640b7",
   "metadata": {
    "scrolled": true
   },
   "outputs": [
    {
     "name": "stdout",
     "output_type": "stream",
     "text": [
      "60 36\n",
      "61 45\n",
      "63 40\n",
      "63 42\n",
      "63 40\n",
      "62 41\n",
      "64 44\n",
      "63 45\n",
      "62 45\n",
      "62 45\n"
     ]
    }
   ],
   "source": [
    "for d in dat[:10]:\n",
    "    print(d[b\"boxHeight\"], d[b\"boxWidth\"])"
   ]
  },
  {
   "cell_type": "code",
   "execution_count": 62,
   "id": "38bb8439",
   "metadata": {
    "scrolled": true
   },
   "outputs": [
    {
     "data": {
      "text/plain": [
       "array([[204, 183],\n",
       "       [205, 182],\n",
       "       [205, 183],\n",
       "       [205, 184],\n",
       "       [206, 181]])"
      ]
     },
     "execution_count": 62,
     "metadata": {},
     "output_type": "execute_result"
    }
   ],
   "source": [
    "imDat[b\"allFingerPoints\"][:5]"
   ]
  },
  {
   "cell_type": "code",
   "execution_count": 113,
   "id": "ae0fcea8",
   "metadata": {
    "scrolled": false
   },
   "outputs": [
    {
     "data": {
      "image/png": "[encoded data removed]",
      "text/plain": [
       "<Figure size 420x280 with 1 Axes>"
      ]
     },
     "metadata": {
      "needs_background": "light"
     },
     "output_type": "display_data"
    }
   ],
   "source": [
    "imDat = dat[32]\n",
    "img = Image.fromarray(imDat[b'croppedImage'])\n",
    "img = img.convert(mode=\"RGB\")\n",
    "newFingerPoints = [(y - min(imDat[b\"box\"][:,0]), x - min(imDat[b\"box\"][: , 1])) for y, x in imDat[b\"allFingerPoints\"]]\n",
    "# highlightPoints(img, [(173, 211), (192, 253)])\n",
    "highlightPoints(img, newFingerPoints)\n",
    "# highlightPoints(img, imDat[b\"box\"], \"blue\")\n",
    "\n",
    "\n",
    "imshow(img)\n",
    "plt.gcf().set_dpi(70)"
   ]
  },
  {
   "cell_type": "code",
   "execution_count": 18,
   "id": "56b16910",
   "metadata": {
    "scrolled": true
   },
   "outputs": [
    {
     "data": {
      "text/plain": [
       "54"
      ]
     },
     "execution_count": 18,
     "metadata": {},
     "output_type": "execute_result"
    }
   ],
   "source": [
    "len(dat)"
   ]
  },
  {
   "cell_type": "code",
   "execution_count": 16,
   "id": "b256f787",
   "metadata": {
    "scrolled": false
   },
   "outputs": [
    {
     "data": {
      "image/png": "[encoded data removed]",
      "text/plain": [
       "<PIL.Image.Image image mode=1 size=400x400 at 0x7F61B403C700>"
      ]
     },
     "execution_count": 16,
     "metadata": {},
     "output_type": "execute_result"
    }
   ],
   "source": [
    "Image.fromarray(dat[50][b\"image1bit\"])"
   ]
  },
  {
   "cell_type": "code",
   "execution_count": null,
   "id": "119c7bee",
   "metadata": {},
   "outputs": [],
   "source": []
  },
  {
   "cell_type": "code",
   "execution_count": 25,
   "id": "ef02a6dc",
   "metadata": {
    "scrolled": false
   },
   "outputs": [
    {
     "data": {
      "image/png": "[encoded data removed]",
      "text/plain": [
       "<PIL.Image.Image image mode=1 size=400x400 at 0x7F61A8511460>"
      ]
     },
     "metadata": {},
     "output_type": "display_data"
    }
   ],
   "source": [
    "img = Image.fromarray(dat[50][b\"image1bit\"])\n",
    "img.show()"
   ]
  },
  {
   "cell_type": "code",
   "execution_count": 6,
   "id": "renewable-notice",
   "metadata": {},
   "outputs": [
    {
     "data": {
      "text/plain": [
       "array([[0, 0, 0, ..., 0, 0, 0],\n",
       "       [0, 0, 0, ..., 0, 0, 0],\n",
       "       [0, 0, 0, ..., 0, 0, 0],\n",
       "       ...,\n",
       "       [0, 0, 0, ..., 0, 0, 0],\n",
       "       [0, 0, 0, ..., 0, 0, 0],\n",
       "       [0, 0, 0, ..., 0, 0, 0]], dtype=uint8)"
      ]
     },
     "execution_count": 6,
     "metadata": {},
     "output_type": "execute_result"
    }
   ],
   "source": [
    "dat[52][b\"image\"]"
   ]
  },
  {
   "cell_type": "code",
   "execution_count": 10,
   "id": "moving-blanket",
   "metadata": {},
   "outputs": [],
   "source": [
    "with open(\"./rawData/1f0.pickle\", \"rb\") as infile:\n",
    "    d = pickle.load(infile, encoding=\"bytes\")"
   ]
  },
  {
   "cell_type": "code",
   "execution_count": 20,
   "id": "continent-parade",
   "metadata": {
    "scrolled": true
   },
   "outputs": [],
   "source": [
    "import numpy as np\n",
    "from PIL import Image"
   ]
  },
  {
   "cell_type": "code",
   "execution_count": 48,
   "id": "premier-melissa",
   "metadata": {},
   "outputs": [
    {
     "data": {
      "image/png": "[encoded data removed]",
      "text/plain": [
       "<PIL.Image.Image image mode=L size=200x100 at 0x7F49F1725310>"
      ]
     },
     "execution_count": 48,
     "metadata": {},
     "output_type": "execute_result"
    }
   ],
   "source": [
    "img = Image.fromarray(dat[50][b\"image\"][200:300, 100:300])\n",
    "img"
   ]
  },
  {
   "cell_type": "code",
   "execution_count": 22,
   "id": "built-purse",
   "metadata": {},
   "outputs": [
    {
     "data": {
      "image/png": "[encoded data removed]",
      "text/plain": [
       "<PIL.Image.Image image mode=L size=400x400 at 0x7F4A04B96F90>"
      ]
     },
     "execution_count": 22,
     "metadata": {},
     "output_type": "execute_result"
    }
   ],
   "source": [
    "img"
   ]
  },
  {
   "cell_type": "code",
   "execution_count": 16,
   "id": "leading-exemption",
   "metadata": {
    "scrolled": true
   },
   "outputs": [
    {
     "data": {
      "text/plain": [
       "(400, 400)"
      ]
     },
     "execution_count": 16,
     "metadata": {},
     "output_type": "execute_result"
    }
   ],
   "source": [
    "d[b\"image\"].shape"
   ]
  },
  {
   "cell_type": "code",
   "execution_count": 6,
   "id": "funded-criminal",
   "metadata": {
    "scrolled": true
   },
   "outputs": [
    {
     "data": {
      "text/plain": [
       "list"
      ]
     },
     "execution_count": 6,
     "metadata": {},
     "output_type": "execute_result"
    }
   ],
   "source": [
    "type(dat)"
   ]
  },
  {
   "cell_type": "code",
   "execution_count": 8,
   "id": "quiet-charles",
   "metadata": {},
   "outputs": [
    {
     "data": {
      "text/plain": [
       "dict"
      ]
     },
     "execution_count": 8,
     "metadata": {},
     "output_type": "execute_result"
    }
   ],
   "source": [
    "type(dat[0])"
   ]
  },
  {
   "cell_type": "code",
   "execution_count": 9,
   "id": "sunrise-connection",
   "metadata": {},
   "outputs": [
    {
     "data": {
      "text/plain": [
       "dict_keys([b'box', b'boxHeight', b'handPoints', b'trackingIndices', b'allFingerPoints', b'boxWidth', b'image', b'boxEdges', b'croppedImage', b'numFingers', b'numPointsInBox', b'handEdges', b'indexFingerPoints', b'picCount', b'image1bit'])"
      ]
     },
     "execution_count": 9,
     "metadata": {},
     "output_type": "execute_result"
    }
   ],
   "source": [
    "dat[0].keys()"
   ]
  },
  {
   "cell_type": "code",
   "execution_count": null,
   "id": "broadband-computer",
   "metadata": {},
   "outputs": [],
   "source": []
  }
 ],
 "metadata": {
  "kernelspec": {
   "display_name": "Python 3 (ipykernel)",
   "language": "python",
   "name": "python3"
  },
  "language_info": {
   "codemirror_mode": {
    "name": "ipython",
    "version": 3
   },
   "file_extension": ".py",
   "mimetype": "text/x-python",
   "name": "python",
   "nbconvert_exporter": "python",
   "pygments_lexer": "ipython3",
   "version": "3.9.1"
  }
 },
 "nbformat": 4,
 "nbformat_minor": 5
}
